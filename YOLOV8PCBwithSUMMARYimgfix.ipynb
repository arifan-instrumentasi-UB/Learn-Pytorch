{
  "nbformat": 4,
  "nbformat_minor": 0,
  "metadata": {
    "colab": {
      "provenance": [],
      "gpuType": "T4",
      "authorship_tag": "ABX9TyOpIsAs67QN2Ap8lvQEy1MP",
      "include_colab_link": true
    },
    "kernelspec": {
      "name": "python3",
      "display_name": "Python 3"
    },
    "language_info": {
      "name": "python"
    },
    "accelerator": "GPU"
  },
  "cells": [
    {
      "cell_type": "markdown",
      "metadata": {
        "id": "view-in-github",
        "colab_type": "text"
      },
      "source": [
        "<a href=\"https://colab.research.google.com/github/arifan-instrumentasi-UB/Learn-Pytorch/blob/main/YOLOV8PCBwithSUMMARYimgfix.ipynb\" target=\"_parent\"><img src=\"https://colab.research.google.com/assets/colab-badge.svg\" alt=\"Open In Colab\"/></a>"
      ]
    },
    {
      "cell_type": "code",
      "execution_count": null,
      "metadata": {
        "id": "4KQrDGwKr50a"
      },
      "outputs": [],
      "source": [
        "!nvidia-smi\n",
        "!pip install ultralytics\n",
        "!pip3 install opencv-python\n",
        "\n",
        "import cv2\n",
        "from ultralytics import YOLO\n",
        "#import os\n",
        "#from IPython.display import display, Image\n",
        "#from IPython import display\n",
        "#display.clear_output()\n",
        "!yolo mode=checks"
      ]
    },
    {
      "cell_type": "code",
      "source": [
        "model = YOLO('/content/best.pt')\n",
        "\n",
        "results = model(source = '/content/IMG_20240322_140324.jpg', show=False, conf=0.3, save=False)"
      ],
      "metadata": {
        "id": "yPfBON_wsE7I"
      },
      "execution_count": null,
      "outputs": []
    },
    {
      "cell_type": "code",
      "source": [
        "collect_result = []\n",
        "\n",
        "for result in results:\n",
        "  for box in results[0].boxes:\n",
        "    class_id = int(box.cls)\n",
        "    class_label = results[0].names[class_id]\n",
        "    collect_result.append(class_label)\n",
        "\n",
        "status = \"NG\" if any('SONYBOND NG' in item or 'LABEL NG' in item for item in collect_result) else \"OK\"\n",
        "color = (0, 0, 255) if any('SONYBOND NG' in item or 'LABEL NG' in item for item in collect_result) else  (0, 255, 0)"
      ],
      "metadata": {
        "id": "jqUXI816NZuA"
      },
      "execution_count": null,
      "outputs": []
    },
    {
      "cell_type": "code",
      "source": [
        "inference_output = result.plot()\n",
        "\n",
        "# Add the text to your image\n",
        "new1 = cv2.rectangle(inference_output, (20,60), (450,230), (255, 255, 255), -1)\n",
        "new2 = cv2.putText(new1, status, (60, 200), cv2.FONT_HERSHEY_SIMPLEX, 5, color, 15)\n",
        "\n",
        "# Save or display the result\n",
        "cv2.imwrite('new.jpg', new2)\n",
        "# or use cv2.imshow('Result', image) to display in Colab (might require additional setup for Colab)"
      ],
      "metadata": {
        "id": "8YQ64xnfRRC7"
      },
      "execution_count": null,
      "outputs": []
    }
  ]
}