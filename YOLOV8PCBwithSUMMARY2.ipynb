{
  "nbformat": 4,
  "nbformat_minor": 0,
  "metadata": {
    "colab": {
      "provenance": [],
      "gpuType": "T4",
      "authorship_tag": "ABX9TyP1Bk0J4IOjalRKwB+p9iJh",
      "include_colab_link": true
    },
    "kernelspec": {
      "name": "python3",
      "display_name": "Python 3"
    },
    "language_info": {
      "name": "python"
    },
    "accelerator": "GPU"
  },
  "cells": [
    {
      "cell_type": "markdown",
      "metadata": {
        "id": "view-in-github",
        "colab_type": "text"
      },
      "source": [
        "<a href=\"https://colab.research.google.com/github/arifan-instrumentasi-UB/Learn-Pytorch/blob/main/YOLOV8PCBwithSUMMARY2.ipynb\" target=\"_parent\"><img src=\"https://colab.research.google.com/assets/colab-badge.svg\" alt=\"Open In Colab\"/></a>"
      ]
    },
    {
      "cell_type": "code",
      "execution_count": null,
      "metadata": {
        "id": "4KQrDGwKr50a"
      },
      "outputs": [],
      "source": [
        "!nvidia-smi\n",
        "!pip install ultralytics\n",
        "!pip3 install opencv-python\n",
        "\n",
        "import cv2\n",
        "from ultralytics import YOLO\n",
        "#import os\n",
        "#from IPython.display import display, Image\n",
        "#from IPython import display\n",
        "#display.clear_output()\n",
        "!yolo mode=checks"
      ]
    },
    {
      "cell_type": "code",
      "source": [
        "model = YOLO('/content/best.pt')\n",
        "\n",
        "results = model(source='/content/IMG_20240322_140954.jpg', show=False, conf=0.3, save=True)"
      ],
      "metadata": {
        "id": "yPfBON_wsE7I",
        "colab": {
          "base_uri": "https://localhost:8080/"
        },
        "outputId": "af210650-68aa-4849-c3e6-0f150af1df21"
      },
      "execution_count": 15,
      "outputs": [
        {
          "output_type": "stream",
          "name": "stdout",
          "text": [
            "\n",
            "image 1/1 /content/IMG_20240322_140954.jpg: 480x640 1 LABEL OK, 1 SONYBOND OK, 29.0ms\n",
            "Speed: 3.2ms preprocess, 29.0ms inference, 1.3ms postprocess per image at shape (1, 3, 480, 640)\n",
            "Results saved to \u001b[1mruns/detect/predict\u001b[0m\n"
          ]
        }
      ]
    },
    {
      "cell_type": "code",
      "source": [
        "collect_result = []\n",
        "for result in results:\n",
        "  for box in results[0].boxes:\n",
        "    class_id = int(box.cls)\n",
        "    class_label = results[0].names[class_id]\n",
        "    collect_result.append(class_label)\n",
        "\n",
        "if collect_result == \"SONYBOND NG\" or \"LABEL NG\": summary = \"NG\"\n",
        "else: summary = \"OK\"\n",
        "\n",
        "inference_output = result.plot()\n",
        "\n",
        "# Add the text to your image\n",
        "new1 = cv2.rectangle(inference_output, (20,60), (450,230), (255, 255, 255), -1)\n",
        "new2 = cv2.putText(new1, summary, (60, 200), cv2.FONT_HERSHEY_SIMPLEX, 5, (0, 0, 255), 15)\n",
        "\n",
        "# Save or display the result\n",
        "cv2.imwrite('new.jpg', new2)\n",
        "# or use cv2.imshow('Result', image) to display in Colab (might require additional setup for Colab)\n",
        "\n",
        "print(collect_result)\n",
        "print(summary)"
      ],
      "metadata": {
        "id": "8YQ64xnfRRC7",
        "colab": {
          "base_uri": "https://localhost:8080/"
        },
        "outputId": "c0e17e39-8709-4063-85ae-92f1cfdb66f9"
      },
      "execution_count": 43,
      "outputs": [
        {
          "output_type": "stream",
          "name": "stdout",
          "text": [
            "['SONYBOND OK', 'LABEL OK']\n",
            "NG\n"
          ]
        }
      ]
    }
  ]
}