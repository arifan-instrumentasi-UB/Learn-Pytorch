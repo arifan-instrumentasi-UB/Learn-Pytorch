{
  "nbformat": 4,
  "nbformat_minor": 0,
  "metadata": {
    "colab": {
      "provenance": [],
      "gpuType": "T4",
      "authorship_tag": "ABX9TyMl6gFYwKcsea//8ggPCFUv"
    },
    "kernelspec": {
      "name": "python3",
      "display_name": "Python 3"
    },
    "language_info": {
      "name": "python"
    },
    "accelerator": "GPU"
  },
  "cells": [
    {
      "cell_type": "code",
      "execution_count": null,
      "metadata": {
        "id": "4KQrDGwKr50a"
      },
      "outputs": [],
      "source": [
        "!nvidia-smi\n",
        "\n",
        "!pip install ultralytics\n",
        "\n",
        "from ultralytics import YOLO\n",
        "import os\n",
        "from IPython.display import display, Image\n",
        "from IPython import display\n",
        "display.clear_output()\n",
        "!yolo mode=checks"
      ]
    },
    {
      "cell_type": "code",
      "source": [
        "model = YOLO('/content/best.pt')\n",
        "\n",
        "results = model(source='/content/IMG_20240322_140532_1.jpg', show=False, conf=0.3, save=True)"
      ],
      "metadata": {
        "id": "yPfBON_wsE7I"
      },
      "execution_count": null,
      "outputs": []
    },
    {
      "cell_type": "code",
      "source": [
        "collect_result = []\n",
        "\n",
        "for box in results[0].boxes:\n",
        "  class_id = int(box.cls)\n",
        "  class_label = results[0].names[class_id]\n",
        "  collect_result.append(class_label)"
      ],
      "metadata": {
        "id": "JIEKM7x_tJQp"
      },
      "execution_count": null,
      "outputs": []
    },
    {
      "cell_type": "code",
      "source": [
        "summary = \"NG\" if \"SONYBOND NG\" or \"LABEL NG\" in summary else \"OK\"\n",
        "print(summary)\n"
      ],
      "metadata": {
        "id": "gHIxBUoYOIEs"
      },
      "execution_count": null,
      "outputs": []
    }
  ]
}